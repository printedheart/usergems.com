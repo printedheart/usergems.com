{
 "cells": [
  {
   "cell_type": "markdown",
   "metadata": {},
   "source": [
    "### UserGems.com API Examples"
   ]
  },
  {
   "cell_type": "code",
   "execution_count": null,
   "metadata": {},
   "outputs": [],
   "source": [
    "#json for headers and payloads, requests library for response and url2\n",
    "#!sudo pip3 install json requests if these librarys are missing from your environment\n",
    "import json\n",
    "import requests"
   ]
  },
  {
   "cell_type": "code",
   "execution_count": null,
   "metadata": {},
   "outputs": [],
   "source": [
    "Insert your email and password for UserGems website to create your API Token"
   ]
  },
  {
   "cell_type": "code",
   "execution_count": null,
   "metadata": {},
   "outputs": [],
   "source": [
    "#Token Create Url https://www.usergems.com/api/token/create\n",
    "!curl -X POST -d '{ \"email\": \"email@email.com\", \"password\" : \"password123\", }' \"https://www.usergems.com/api/token/create\""
   ]
  },
  {
   "cell_type": "code",
   "execution_count": null,
   "metadata": {},
   "outputs": [],
   "source": [
    "#Place your API KEY below\n",
    "json = { \"\" : \"\"}\n",
    "headers = { \"X-Api-Key\": \"putapikeyhere\" }"
   ]
  },
  {
   "cell_type": "code",
   "execution_count": null,
   "metadata": {},
   "outputs": [],
   "source": [
    "#url = 'https://www.usergems.com/api/lookup'\n",
    "!curl -H \"X-Api-Key:putapikey\" 'https://www.usergems.com/api/lookup?email=cade@vyrl.co'"
   ]
  },
  {
   "cell_type": "code",
   "execution_count": null,
   "metadata": {},
   "outputs": [],
   "source": [
    "email = \"email@email.com\""
   ]
  },
  {
   "cell_type": "code",
   "execution_count": null,
   "metadata": {},
   "outputs": [],
   "source": [
    "url = 'https://www.usergems.com/api/lookup?email=' + email\n",
    "#payload = open(\"request.json\")\n",
    "r = requests.post(url, headers=headers)\n",
    "print(r)\n",
    "print(url)\n",
    "print (r.content)"
   ]
  }
 ],
 "metadata": {
  "kernelspec": {
   "display_name": "Python 3",
   "language": "python",
   "name": "python3"
  },
  "language_info": {
   "codemirror_mode": {
    "name": "ipython",
    "version": 3
   },
   "file_extension": ".py",
   "mimetype": "text/x-python",
   "name": "python",
   "nbconvert_exporter": "python",
   "pygments_lexer": "ipython3",
   "version": "3.6.5"
  }
 },
 "nbformat": 4,
 "nbformat_minor": 2
}
